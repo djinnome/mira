{
 "cells": [
  {
   "cell_type": "markdown",
   "id": "3196f03c",
   "metadata": {},
   "source": [
    "# Compositional Grounding\n",
    "\n",
    "**Who cares?**\n",
    "\n",
    "Anyone using DKG to endow semantics on to their data strutures (TA1, TA2, TA3) but\n",
    "want to make new terms based on existing terms\n",
    "\n",
    "## First Steps - Make a Concept"
   ]
  },
  {
   "cell_type": "code",
   "execution_count": null,
   "id": "285b19b3",
   "metadata": {},
   "outputs": [],
   "source": [
    "from mira.metamodel.templates import Concept\n",
    "\n",
    "susceptible = Concept(\n",
    "    name=\"susceptible_population\",\n",
    "    # Correspond to nodes in the DKG\n",
    "    identifiers={\"ido\": \"0000514\"},\n",
    ")"
   ]
  },
  {
   "cell_type": "markdown",
   "id": "c759e283",
   "metadata": {},
   "source": [
    "## Old Way to add \"Context\""
   ]
  },
  {
   "cell_type": "code",
   "execution_count": null,
   "id": "49266bce",
   "metadata": {},
   "outputs": [],
   "source": [
    "susceptible_vaccinated = Concept(\n",
    "    name=\"susceptible_population\",\n",
    "    # Correspond to nodes in the DKG\n",
    "    identifiers={\"ido\": \"0000514\"},\n",
    "    context={\n",
    "        \"vaccination_status\": \"vo:0001376\",\n",
    "    }\n",
    ")"
   ]
  },
  {
   "cell_type": "markdown",
   "id": "3678a60a",
   "metadata": {},
   "source": [
    "## Problems with the Old Way\n",
    "\n",
    "1. Not much structure\n",
    "2. Doesn't enable ascribing semantics to what each entry in this \"context\" dictionary means\n",
    "3. Can't differentiate between references to ontology terms or primitive data types (int, float, bool, str)"
   ]
  },
  {
   "cell_type": "markdown",
   "id": "5ba61bff",
   "metadata": {},
   "source": [
    "## New Way\n",
    "\n",
    "Flavor 1: use ontology terms:"
   ]
  },
  {
   "cell_type": "code",
   "execution_count": null,
   "id": "6c157048",
   "metadata": {},
   "outputs": [],
   "source": [
    "from mira.metamodel.template import ObjectProperty, Term\n",
    "\n",
    "susceptible_vaccinated = Concept(\n",
    "    name=\"susceptible_population\",\n",
    "    identifiers={\"ido\": \"0000514\"},\n",
    "    properties=[\n",
    "        ObjectProperty(\n",
    "            predicate=Term(name=\"vaccination_status\"),\n",
    "            value=Term(name=\"vaccinated\", identifiers={\"vo\", \"0001376\"})\n",
    "        )\n",
    "    ]\n",
    ")"
   ]
  },
  {
   "cell_type": "markdown",
   "id": "842515df",
   "metadata": {},
   "source": [
    "Flavor 2: use booleans (e.g., to reduce complexity)"
   ]
  },
  {
   "cell_type": "code",
   "execution_count": null,
   "id": "b46d78a8",
   "metadata": {},
   "outputs": [],
   "source": [
    "from mira.metamodel.template import DataProperty\n",
    "\n",
    "Concept.parse_raw({...})\n",
    "\n",
    "susceptible_vaccinated = Concept(\n",
    "    name=\"susceptible_population\",\n",
    "    identifiers={\"ido\": \"0000514\"},\n",
    "    properties=[\n",
    "        DataProperty(\n",
    "            predicate=Term(\n",
    "                name=\"vaccination_status\", \n",
    "                identifiers={\"vo\", \"0001376\"},\n",
    "            )\n",
    "            value=True\n",
    "        )\n",
    "    ]\n",
    ")"
   ]
  }
 ],
 "metadata": {
  "kernelspec": {
   "display_name": "Python 3 (ipykernel)",
   "language": "python",
   "name": "python3"
  },
  "language_info": {
   "codemirror_mode": {
    "name": "ipython",
    "version": 3
   },
   "file_extension": ".py",
   "mimetype": "text/x-python",
   "name": "python",
   "nbconvert_exporter": "python",
   "pygments_lexer": "ipython3",
   "version": "3.11.0"
  }
 },
 "nbformat": 4,
 "nbformat_minor": 5
}
