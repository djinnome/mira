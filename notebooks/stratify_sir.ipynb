{
 "cells": [
  {
   "cell_type": "code",
   "execution_count": 11,
   "metadata": {
    "collapsed": true
   },
   "outputs": [
    {
     "name": "stdout",
     "output_type": "stream",
     "text": [
      "{'controller': {'context': {},\n",
      "                'identifiers': {'ido': '0000511'},\n",
      "                'name': 'infected_population'},\n",
      " 'outcome': {'context': {},\n",
      "             'identifiers': {'ido': '0000511'},\n",
      "             'name': 'infected_population'},\n",
      " 'provenance': [],\n",
      " 'rate_law': None,\n",
      " 'subject': {'context': {},\n",
      "             'identifiers': {'ido': '0000514'},\n",
      "             'name': 'susceptible_population'},\n",
      " 'type': 'ControlledConversion'}\n"
     ]
    }
   ],
   "source": [
    "from mira.examples.sir import sir\n",
    "from pprint import pprint\n",
    "\n",
    "# Controlled conversion from susceptible to infected: infected controls transition from susceptible to infected\n",
    "pprint(sir.templates[0].dict())"
   ]
  },
  {
   "cell_type": "code",
   "execution_count": 5,
   "outputs": [
    {
     "name": "stdout",
     "output_type": "stream",
     "text": [
      "Multiplies a model into several strata.\n",
      "\n",
      "    E.g., can turn the SIR model into a two-city SIR model by splitting each concept into\n",
      "    two derived concepts, each with the context for one of the two cities\n",
      "\n",
      "    Parameters\n",
      "    ----------\n",
      "    template_model :\n",
      "        A template model\n",
      "    key :\n",
      "        The (singular) name of the stratification, e.g., ``\"city\"``\n",
      "    strata :\n",
      "        A list of the values for stratification, e.g., ``[\"boston\", \"nyc\"]``\n",
      "    structure :\n",
      "        An iterable of pairs corresponding to a directed network structure\n",
      "        where each of the pairs has two strata. If none given, will assume a complete\n",
      "        network structure. If no structure is necessary, pass an empty list.\n",
      "    directed :\n",
      "        Should the reverse direction conversions be added based on the given structure?\n",
      "    conversion_cls :\n",
      "        The template class to be used for conversions between strata\n",
      "        defined by the network structure. Defaults to :class:`NaturalConversion`\n",
      "    cartesian_control :\n",
      "        If true, splits all control relationships based on the stratification.\n",
      "\n",
      "        This should be true for an SIR epidemiology model, the susceptibility to\n",
      "        infected transition is controlled by infected. If the model is stratified by\n",
      "        vaccinated and unvaccinated, then the transition from vaccinated\n",
      "        susceptible population to vaccinated infected populations should be\n",
      "        controlled by both infected vaccinated and infected unvaccinated\n",
      "        populations.\n",
      "\n",
      "        This should be false for stratification of an SIR epidemiology model based\n",
      "        on cities, since the infected population in one city won't (directly,\n",
      "        through the perspective of the model) affect the infection of susceptible\n",
      "        population in another city.\n",
      "\n",
      "    Returns\n",
      "    -------\n",
      "    :\n",
      "        A stratified template model\n",
      "    \n"
     ]
    }
   ],
   "source": [
    "from mira.metamodel.ops import stratify\n",
    "print(stratify.__doc__)"
   ],
   "metadata": {
    "collapsed": false
   }
  },
  {
   "cell_type": "code",
   "execution_count": 16,
   "outputs": [
    {
     "name": "stdout",
     "output_type": "stream",
     "text": [
      "4\n"
     ]
    }
   ],
   "source": [
    "# Stratify the SIR model by vaccination status\n",
    "sir_vax = stratify(sir, key=\"vaccination_status\", strata=[\"vaccinated\", \"unvaccinated\"], structure=[(\"vaccinated\", \"unvaccinated\")], directed=True, cartesian_control=True)\n",
    "# Check how the controlled conversion looks like after stratification\n",
    "controlled_conversions = []\n",
    "for template in sir_vax.templates:\n",
    "    if template.type.lower() == \"controlledconversion\":\n",
    "        controlled_conversions.append(template)\n",
    "\n",
    "# We get 4 controlled conversions, since both unvaccinated and vaccinated can be susceptible and both vaccinated infected and unvaccinated infected can infect both of the susceptible populations\n",
    "print(len(controlled_conversions))"
   ],
   "metadata": {
    "collapsed": false
   }
  },
  {
   "cell_type": "code",
   "execution_count": 18,
   "outputs": [
    {
     "name": "stdout",
     "output_type": "stream",
     "text": [
      "{'controller': {'context': {'vaccination_status': 'unvaccinated'},\n",
      "                'identifiers': {'ido': '0000511'},\n",
      "                'name': 'infected_population_unvaccinated'},\n",
      " 'outcome': {'context': {'vaccination_status': 'unvaccinated'},\n",
      "             'identifiers': {'ido': '0000511'},\n",
      "             'name': 'infected_population_unvaccinated'},\n",
      " 'provenance': [],\n",
      " 'rate_law': None,\n",
      " 'subject': {'context': {'vaccination_status': 'unvaccinated'},\n",
      "             'identifiers': {'ido': '0000514'},\n",
      "             'name': 'susceptible_population_unvaccinated'},\n",
      " 'type': 'ControlledConversion'}\n",
      "{'controller': {'context': {'vaccination_status': 'vaccinated'},\n",
      "                'identifiers': {'ido': '0000511'},\n",
      "                'name': 'infected_population_vaccinated'},\n",
      " 'outcome': {'context': {'vaccination_status': 'unvaccinated'},\n",
      "             'identifiers': {'ido': '0000511'},\n",
      "             'name': 'infected_population_unvaccinated'},\n",
      " 'provenance': [],\n",
      " 'rate_law': None,\n",
      " 'subject': {'context': {'vaccination_status': 'unvaccinated'},\n",
      "             'identifiers': {'ido': '0000514'},\n",
      "             'name': 'susceptible_population_unvaccinated'},\n",
      " 'type': 'ControlledConversion'}\n",
      "{'controller': {'context': {'vaccination_status': 'vaccinated'},\n",
      "                'identifiers': {'ido': '0000511'},\n",
      "                'name': 'infected_population_vaccinated'},\n",
      " 'outcome': {'context': {'vaccination_status': 'vaccinated'},\n",
      "             'identifiers': {'ido': '0000511'},\n",
      "             'name': 'infected_population_vaccinated'},\n",
      " 'provenance': [],\n",
      " 'rate_law': None,\n",
      " 'subject': {'context': {'vaccination_status': 'vaccinated'},\n",
      "             'identifiers': {'ido': '0000514'},\n",
      "             'name': 'susceptible_population_vaccinated'},\n",
      " 'type': 'ControlledConversion'}\n",
      "{'controller': {'context': {'vaccination_status': 'unvaccinated'},\n",
      "                'identifiers': {'ido': '0000511'},\n",
      "                'name': 'infected_population_unvaccinated'},\n",
      " 'outcome': {'context': {'vaccination_status': 'vaccinated'},\n",
      "             'identifiers': {'ido': '0000511'},\n",
      "             'name': 'infected_population_vaccinated'},\n",
      " 'provenance': [],\n",
      " 'rate_law': None,\n",
      " 'subject': {'context': {'vaccination_status': 'vaccinated'},\n",
      "             'identifiers': {'ido': '0000514'},\n",
      "             'name': 'susceptible_population_vaccinated'},\n",
      " 'type': 'ControlledConversion'}\n"
     ]
    }
   ],
   "source": [
    "# Check how the controlled conversions look like now:\n",
    "for templ in controlled_conversions:\n",
    "    pprint(templ.dict())"
   ],
   "metadata": {
    "collapsed": false
   }
  },
  {
   "cell_type": "code",
   "execution_count": null,
   "outputs": [],
   "source": [],
   "metadata": {
    "collapsed": false
   }
  }
 ],
 "metadata": {
  "kernelspec": {
   "display_name": "Python 3",
   "language": "python",
   "name": "python3"
  },
  "language_info": {
   "codemirror_mode": {
    "name": "ipython",
    "version": 2
   },
   "file_extension": ".py",
   "mimetype": "text/x-python",
   "name": "python",
   "nbconvert_exporter": "python",
   "pygments_lexer": "ipython2",
   "version": "2.7.6"
  }
 },
 "nbformat": 4,
 "nbformat_minor": 0
}
